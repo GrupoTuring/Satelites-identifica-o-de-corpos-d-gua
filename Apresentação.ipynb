{
 "cells": [
  {
   "cell_type": "markdown",
   "metadata": {},
   "source": [
    "<img src=\"https://i.ibb.co/DtHQ3FG/802x265-Logo-GT.png\" width=\"400\"> \n",
    "## Grupo Turing\n",
    "# Visão Computacional: Projeto de Satélites\n",
    "#### Por: [Luísa Heise](https://github.com/luisaheise); [Rodrigo Estevam](https://github.com/materloki); [Camila Fonseca](https://github.com/fonsecamilla); [Noel Eliezer](https://github.com/anor4k); [Luis Henrique](https://github.com/luish18); [Wesley de Almeida](https://github.com/WesPereira); [Rodrigo Fill](https://github.com/rodrigofill)"
   ]
  },
  {
   "cell_type": "markdown",
   "metadata": {},
   "source": [
    "# Projeto satélites:\n",
    "\n",
    "Imagens de satélite podem ser diferenciadas por quatro tipos distintos de resolução:\n",
    "\n",
    "* **Resolução Espectral**: Região do espectro eletromagnético observado em cada banda eletromagnética de casa imagem.\n",
    "* **Resolução Espacial**: Área superficial coberta por cada pixel da imagem.\n",
    "* **Resolução Temporal**: Período de tempo de aquisição de cada imagem de satélite.\n",
    "* **Resolução Radiométrica**: A menor diferença de energia observada da reflectância eletromagnética.\n",
    "\n",
    "Atualmente diferentes algoritmos são amplamente aplicados quando utilizados em modelos baseados em imagens de satélite, entre eles temos a transformada wavelet discreta (DWT) e SOM (Self-Organizing Maps). Em geral há uma preferência pelo uso de métodos não supervisionados para aderessar os desafios intrinsecos à esse tipo de dado uma vez que labels totalmente corretos são quase sempre inexistentes. \n",
    "\n",
    "Neste cenário que a busca por índices se torna de grande importância para o estudo destas imagens, estes índices são capazes de reduzir a grande quantidade de informação da imagem de satélite para que a mesma seja mais utilizável. Dentre eles temos o NVDI, o MNVDI e o AWEI."
   ]
  },
  {
   "cell_type": "markdown",
   "metadata": {},
   "source": [
    "## AWEI\n",
    "\n"
   ]
  }
 ],
 "metadata": {
  "kernelspec": {
   "display_name": "Python 3",
   "language": "python",
   "name": "python3"
  },
  "language_info": {
   "codemirror_mode": {
    "name": "ipython",
    "version": 3
   },
   "file_extension": ".py",
   "mimetype": "text/x-python",
   "name": "python",
   "nbconvert_exporter": "python",
   "pygments_lexer": "ipython3",
   "version": "3.7.6"
  }
 },
 "nbformat": 4,
 "nbformat_minor": 4
}
