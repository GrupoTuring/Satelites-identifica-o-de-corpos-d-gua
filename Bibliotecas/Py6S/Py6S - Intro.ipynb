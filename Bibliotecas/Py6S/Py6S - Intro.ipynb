{
 "cells": [
  {
   "cell_type": "markdown",
   "metadata": {},
   "source": [
    "# Py6S\n",
    "## Introdução\n",
    "O modelo matemático 6S é baseado na transferência radiativa, onde ele considera as características atmosféricas no momento de obtenção da imagem para o cálculo dos fluxos necessários para a obtenção da reflectância bidirecional da superfície. <br>\n",
    "A biblioteca Py6S é utilizada como interface para implementação do Modelo de Transferência Radiativa 6S. Ela é feita para ser simples e prática. Para instalar basta digitar:\n",
    "```console\n",
    "conda create -n py6s-env -c conda-forge py6s\n",
    "conda activate py6s-env\n",
    "```\n",
    "Os comandos acima criam e ativam um ambiente virtual com todas dependências necessárias para utilizar a interface Py6S."
   ]
  },
  {
   "cell_type": "markdown",
   "metadata": {},
   "source": [
    "## Mas o que de fato é o 6S?\n",
    "A Segunda Simulação do Sinal do Satélite no Espectro Solar, também conhecido como 6S, simula o efeito da atmosfera na luz que passa por ele e pode basicamente responder a duas perguntas:\n",
    "\n",
    "---\n",
    "***Qual intensidade de luz seria recebida em um satélite ou sensor sob um conjunto específico de condições de refletância atmosférica e terrestre?***\n",
    "\n",
    "***Qual teria sido a refletância do solo, dada a medição da intensidade da luz em um sensor e as condições atmosféricas? (ou seja, o inverso da questão anterior)***\n",
    "\n",
    "---\n",
    "O 6S considera os efeitos provocados pela absorção causada por dióxido de carbono (CO<sub>2</sub>), ozônio (O<sub>3</sub>), óxido nitroso (N<sub>2</sub>O), oxigênio (O<sub>2</sub>), metano (CH<sub>4</sub>) e vapor d'água (H<sub>2</sub>O). Modelos como o 6S são frequentemente usados para corrigir imagens de satélite atmosféricas, como do LANDSAT por exemplo.<br>\n",
    "Pensando agora no algoritmo em si, para a aplicação do código 6S é necessário especificar um conjunto de parâmetros, como:\n",
    "- Atmospheric Profile\n",
    "- Aerosol Profile\n",
    "- Ground Reflectance\n",
    "- Geometry\n",
    "- Altitude\n",
    "- Wavelength\n",
    "\n",
    "Como retorno do algoritmo teremos os comprimentos de onda passados corrigidos. Para saber mais, você pode conferir o paper original sobre o 6S [aqui](http://www2.geog.ucl.ac.uk/~mdisney/teaching/PPRS/papers/vermote_etal_IEEE_1997.pdf).<br>"
   ]
  },
  {
   "cell_type": "markdown",
   "metadata": {},
   "source": [
    "## Iniciando com Py6S\n",
    "\n",
    "Para entendermos como funciona a biblioteca Py6S, começaremos um exemplo e uma explicação passo a passo. Observe o código a seguir."
   ]
  },
  {
   "cell_type": "code",
   "execution_count": 2,
   "metadata": {
    "scrolled": false
   },
   "outputs": [
    {
     "name": "stdout",
     "output_type": "stream",
     "text": [
      "Running for many wavelengths - this may take a long time\n"
     ]
    },
    {
     "data": {
      "image/png": "[encoded data removed]",
      "text/plain": [
       "<Figure size 432x288 with 1 Axes>"
      ]
     },
     "metadata": {
      "needs_background": "light"
     },
     "output_type": "display_data"
    }
   ],
   "source": [
    "# Importe da lib do Py6S\n",
    "from Py6S import *\n",
    "\n",
    "# Cria um objeto SixS\n",
    "s = SixS()\n",
    "\n",
    "# Executa o algoritmo do 6S para comprimentos de onda na faixa do \n",
    "# infravermelho próximo visível\n",
    "wavelengths, results = SixSHelpers.Wavelengths.run_vnir(s, output_name=\"pixel_radiance\")\n",
    "\n",
    "#Plota os resultados \n",
    "SixSHelpers.Wavelengths.plot_wavelengths(wavelengths, results, \"Pixel Radiance\")"
   ]
  },
  {
   "cell_type": "markdown",
   "metadata": {},
   "source": [
    "Analisando o código acima já podemos entender como é a estrutura básica utilizada pela biblioteca: <br>\n",
    "A classe <code>SixS</code> é principal ponto da biblioteca, possuindo atributos e métodos que permitem definir parâmetros, executar 6S e acessar as saídas. Em seguida, utilizamos a classe <code>SixSHelpers</code>. Nessa classe temos um conjunto de métodos \"auxiliares\" que foram escritos para tornar mais fácil realizar operações comuns usando Py6S. Com isso, selecionamos o conjunto de métodos <code>Wavelengths</code> e rodamos o algoritmo para comprimentos de onda na faixa do infravermelho próximo visível (por meio do método <code>run_vnir(s, output_name=\"pixel_radiance\")</code>). Vale ressaltar que especificamos que queremos pegar a saída <code>pixel_radiance</code>.</br>\n",
    "Por fim, utilizando esse conjunto de métodos <code>Wavelengths</code> fazemos o plot do resultado."
   ]
  },
  {
   "cell_type": "markdown",
   "metadata": {},
   "source": [
    "Vejamos agora um exemplo em que não usamos a classe <code>SixSHelpers</code>:"
   ]
  },
  {
   "cell_type": "code",
   "execution_count": 5,
   "metadata": {},
   "outputs": [
    {
     "name": "stdout",
     "output_type": "stream",
     "text": [
      "59.344\n"
     ]
    }
   ],
   "source": [
    "# Cria um objeto SixS\n",
    "s = SixS()\n",
    "\n",
    "# Atribui o perfil tropical ao parâmetro perfil atmosférico \n",
    "s.atmos_profile = AtmosProfile.PredefinedType(AtmosProfile.Tropical)\n",
    "\n",
    "# Atribui o comprimento 0.357 ao parâmetro comprimento de onda\n",
    "s.wavelength = Wavelength(0.357)\n",
    "\n",
    "# Executa o algoritmo\n",
    "s.run()\n",
    "\n",
    "# Printa o resultado\n",
    "print(s.outputs.pixel_radiance)"
   ]
  },
  {
   "cell_type": "markdown",
   "metadata": {},
   "source": [
    "No exemplo acima percebemos que é possível especificar os valores de conjunto de parâmetros, como foi tipo no tópico \"Mas o que de fato é o 6S?\". Além disso, é interessante notar que como passamos apenas 1 comprimento de onda, teremos apenas 1 valor de brilho de pixel como saída."
   ]
  },
  {
   "cell_type": "markdown",
   "metadata": {},
   "source": [
    "Outro ponto que pode ser de curiosidade do leitor é: mas quais são todos os parâmetros de retorno do 6S implementado na biblioteca Py6S? A saída do algoritmo pode ser acessada por meio do atributo ```s.outputs```, onde os valores são armazenados na forma de um dicionário Python. Para visualizar todos os valores basta fazer ```s.outputs.values```, como faríamos em um dicionário comum. Vejamos:"
   ]
  },
  {
   "cell_type": "code",
   "execution_count": 7,
   "metadata": {},
   "outputs": [
    {
     "data": {
      "text/plain": [
       "{'version': '1.1',\n",
       " 'month': 7,\n",
       " 'day': 14,\n",
       " 'solar_z': 32,\n",
       " 'solar_a': 264,\n",
       " 'view_z': 23,\n",
       " 'view_a': 190,\n",
       " 'scattering_angle': 146.9,\n",
       " 'azimuthal_angle_difference': 74.0,\n",
       " 'visibility': 8.49,\n",
       " 'aot550': 0.5,\n",
       " 'ground_pressure': 1013.0,\n",
       " 'ground_altitude': 0.0,\n",
       " 'apparent_reflectance': 0.2316428,\n",
       " 'apparent_radiance': 59.344,\n",
       " 'total_gaseous_transmittance': 0.999,\n",
       " 'wv_above_aerosol': 0.232,\n",
       " 'wv_mixed_with_aerosol': 0.232,\n",
       " 'wv_under_aerosol': 0.232,\n",
       " 'percent_direct_solar_irradiance': 0.335,\n",
       " 'percent_diffuse_solar_irradiance': 0.555,\n",
       " 'percent_environmental_irradiance': 0.11,\n",
       " 'atmospheric_intrinsic_reflectance': 0.0,\n",
       " 'background_reflectance': 0.0,\n",
       " 'pixel_reflectance': 0.232,\n",
       " 'direct_solar_irradiance': 208.329,\n",
       " 'diffuse_solar_irradiance': 344.735,\n",
       " 'environmental_irradiance': 68.389,\n",
       " 'atmospheric_intrinsic_radiance': 0.0,\n",
       " 'background_radiance': 0.0,\n",
       " 'pixel_radiance': 59.344,\n",
       " 'solar_spectrum': 949.053}"
      ]
     },
     "execution_count": 7,
     "metadata": {},
     "output_type": "execute_result"
    }
   ],
   "source": [
    "s.outputs.values"
   ]
  },
  {
   "cell_type": "markdown",
   "metadata": {},
   "source": [
    "Percebemos então que possuímos diversos parâmetros como retorno, saltando alguns como irradiância ambiental, refletância de pixel e refletância intrínseca atmosférica."
   ]
  },
  {
   "cell_type": "markdown",
   "metadata": {},
   "source": [
    "## Avançando com Py6S\n",
    "Um das maiores utilidades da biblioteca Py6S é poder combinar a estrutura e código Python já conhecidos para aplicar o 6S a diversas situações e condições que desejamos. Por exemplo, caso queiramos aplicá-lo há diversas condições atmosféricas diferentes, podemos fazer de maneira simples:"
   ]
  },
  {
   "cell_type": "code",
   "execution_count": 9,
   "metadata": {},
   "outputs": [
    {
     "name": "stdout",
     "output_type": "stream",
     "text": [
      "134.955\n",
      "134.632\n",
      "134.249\n"
     ]
    }
   ],
   "source": [
    "s = SixS()\n",
    "\n",
    "for param in [AtmosProfile.Tropical, AtmosProfile.MidlatitudeSummer, AtmosProfile.MidlatitudeWinter]:\n",
    "  s.atmos_profile = AtmosProfile.PredefinedType(param)\n",
    "  s.run()\n",
    "  print(s.outputs.pixel_radiance)"
   ]
  },
  {
   "cell_type": "markdown",
   "metadata": {},
   "source": [
    "Podemos também setar diversos parâmetros ao mesmo tempo:"
   ]
  },
  {
   "cell_type": "code",
   "execution_count": 10,
   "metadata": {},
   "outputs": [
    {
     "name": "stdout",
     "output_type": "stream",
     "text": [
      "248.337\n"
     ]
    }
   ],
   "source": [
    "s = SixS()\n",
    "s.atmos_profile = AtmosProfile.UserWaterAndOzone(3.6, 0.9) # Set the atmosphere profile to be based on 3.6cm of water and 0.9cm-atm of ozone\n",
    "s.wavelength = Wavelength(PredefinedWavelengths.LANDSAT_TM_B3) # Set the wavelength to be that of the Landsat TM Band 3 - includes response function\n",
    "s.ground_reflectance = GroundReflectance.HomogeneousWalthall(1.08, 0.48, 4.96, 0.5) # Set the surface to have a BRDF approximated by the Walthall model\n",
    "s.geometry = Geometry.Landsat_TM()\n",
    "s.geometry.month = 7\n",
    "s.geometry.day = 14\n",
    "s.geometry.gmt_decimal_hour = 7.75\n",
    "s.geometry.latitude = 51.148\n",
    "s.geometry.longitude = 0.307\n",
    "s.run()\n",
    "print(s.outputs.pixel_radiance)"
   ]
  }
 ],
 "metadata": {
  "kernelspec": {
   "display_name": "Python 3",
   "language": "python",
   "name": "python3"
  },
  "language_info": {
   "codemirror_mode": {
    "name": "ipython",
    "version": 3
   },
   "file_extension": ".py",
   "mimetype": "text/x-python",
   "name": "python",
   "nbconvert_exporter": "python",
   "pygments_lexer": "ipython3",
   "version": "3.8.6"
  }
 },
 "nbformat": 4,
 "nbformat_minor": 4
}
