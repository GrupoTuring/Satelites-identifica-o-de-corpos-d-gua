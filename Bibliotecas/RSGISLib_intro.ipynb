{
 "cells": [
  {
   "cell_type": "markdown",
   "metadata": {},
   "source": [
    "# RSGISLib\n",
    "<img src=\"https://rsgislib.org/_static/rsgislib-logo.png\" width=\"400\" >"
   ]
  },
  {
   "cell_type": "markdown",
   "metadata": {},
   "source": [
    "Trata-se de uma biblioteca que reúne diversos métodos de e ferramentas para o processamento de datasets sobre sensoriamento remoto e SIG (Sistemas de informação geográfica).\n",
    "\n",
    "A biblioteca contém uma série de algoritmos para facilitar as pesquisas na área de sensoriamento remoto, que inclui as seguintes funções:\n",
    "* Segmentação de imagem;\n",
    "* Classificação de objetos;\n",
    "* Registro Imagem a imagem;\n",
    "* Filtragem de imagens;\n",
    "* Estatísticas zonais\n",
    "* Processamento de vetores;\n",
    "\n",
    "A biblioteca é composta por diversos módulos que implementam métodos úteis para cada, portanto vamos tentar cobrir alguns dos principais módulos, pelo menos neste momento, do desenvolvimento do projeto de satélites.\n"
   ]
  },
  {
   "cell_type": "markdown",
   "metadata": {},
   "source": [
    "## RSGISLib Image Calibration Module\n",
    "\n",
    "Módulo composto por funções importantes para calibração de imagens de satélite, entre elas conversão de valores DN para radiancia e reflectância topo da atmosfera, bem como reflectância de superfície, utilizando os coeficientes 6S. "
   ]
  },
  {
   "cell_type": "markdown",
   "metadata": {},
   "source": [
    "## Image Band Math"
   ]
  },
  {
   "cell_type": "code",
   "execution_count": 1,
   "metadata": {},
   "outputs": [],
   "source": [
    "import rsgislib\n",
    "from rsgislib import imagecalc\n",
    "from rsgislib import imageutils"
   ]
  },
  {
   "cell_type": "code",
   "execution_count": 8,
   "metadata": {},
   "outputs": [],
   "source": [
    "# Calcula a potência para a imagem HH:\n",
    "\n",
    "hhImg = './dataset/N22E089_15_sl_HH_F02DAR'\n",
    "hhImgPow = './dataset/N22E089_15_sl_HH_F02DAR_pow.kea'\n",
    "bandDefns = []\n",
    "# Cria uma lista dos objetos bandas para passar à função bandMath como o parâmetro 'bands'.\n",
    "bandDefns.append(rsgislib.imagecalc.BandDefn('HH', hhImg, 1))\n",
    "# Expressão de potência HH em sintaxe muparser\n",
    "mathExp = 'HH>0?10^(2*log10(HH) - 8.3):0.0'\n",
    "rsgislib.imagecalc.bandMath(hhImgPow, mathExp, 'KEA', rsgislib.TYPE_32FLOAT, bandDefns)"
   ]
  },
  {
   "cell_type": "code",
   "execution_count": 9,
   "metadata": {},
   "outputs": [],
   "source": [
    "# Calcula a potência para a imagem HV:\n",
    "\n",
    "hvImg = './dataset/N22E089_15_sl_HV_F02DAR'\n",
    "hvImgPow = './dataset/N22E089_15_sl_HV_F02DAR_pow.kea'\n",
    "bandDefns = []\n",
    "# Cria uma lista dos objetos bandas para passar à função bandMath como o parâmetro 'bands'.\n",
    "bandDefns.append(imagecalc.BandDefn('HV', hvImg, 1))\n",
    "# Expressão de potência HV em sintaxe muparser\n",
    "mathExp = 'HV>0?10^(2*log10(HV) - 8.3):0.0'\n",
    "imagecalc.bandMath(hvImgPow, mathExp, 'KEA', rsgislib.TYPE_32FLOAT, bandDefns)"
   ]
  },
  {
   "cell_type": "code",
   "execution_count": 10,
   "metadata": {},
   "outputs": [],
   "source": [
    "# Calcula HH/HV:\n",
    "\n",
    "hhhvImg = './dataset/N22E089_15_sl_HHHV_F02DAR_pow.kea'\n",
    "bandDefns = []\n",
    "# Pega as bandas HH calculadas anteriormente \n",
    "bandDefns.append(imagecalc.BandDefn('HH', hhImgPow, 1))\n",
    "# Pega as bandas HH calculadas anteriormente \n",
    "bandDefns.append(imagecalc.BandDefn('HV', hvImgPow, 1))\n",
    "# Expressão de HH/HV em sintaxe muparser\n",
    "mathExp = 'HV>0?HH/HV:0.0'\n",
    "imagecalc.bandMath(hhhvImg, mathExp, 'KEA', rsgislib.TYPE_32FLOAT, bandDefns)"
   ]
  },
  {
   "cell_type": "code",
   "execution_count": 11,
   "metadata": {},
   "outputs": [],
   "source": [
    "# Uni as bandas em uma única imagem\n",
    "imageList = [hhImgPow, hvImgPow, hhhvImg]\n",
    "bandNamesList = ['HH','HV', 'HH/HV']\n",
    "outputImageStack = './dataset/N22E089_15_sl_F02DAR_powstack.kea'\n",
    "imageutils.stackImageBands(imageList, bandNamesList, outputImageStack, None, 0, 'KEA', rsgislib.TYPE_32FLOAT)"
   ]
  },
  {
   "cell_type": "code",
   "execution_count": 12,
   "metadata": {},
   "outputs": [],
   "source": [
    "# Calculate overview pyramids and image statistics to make visualisation faster.\n",
    "imageutils.popImageStats(outputImageStack, usenodataval=True, nodataval=0,calcpyramids=True)"
   ]
  },
  {
   "cell_type": "markdown",
   "metadata": {},
   "source": [
    "## Batch Processing"
   ]
  },
  {
   "cell_type": "markdown",
   "metadata": {},
   "source": [
    "O processo anterior permite utilizar a biblioteca e várias de suas funções, ali usamos apenas algumas mais simples, para realizar operações com bandas das imagens, além de definir suas próprias bandas de acordo com uma expressão matemática. Vamos imaginar agora, porém, que seja necessário realizar o procedimento para um grande número de imagens, será necessário adicionar alguns passos intermediários, entre eles o principal é criar uma função capaz de realizar os procedimentos anteriormente citados, para que seja possível chamar a função para cada imagem a ser trabalhada."
   ]
  },
  {
   "cell_type": "code",
   "execution_count": 2,
   "metadata": {},
   "outputs": [],
   "source": [
    "import os\n",
    "import os.path\n",
    "import subprocess\n",
    "import shutil\n",
    "import glob\n",
    "import multiprocessing"
   ]
  },
  {
   "cell_type": "code",
   "execution_count": 3,
   "metadata": {},
   "outputs": [],
   "source": [
    "def createPALSARStack(inputTAR, outputStackImg, tmpDir):\n",
    "    \n",
    "    # Make sure that the inputs use absolute paths as using a working directory\n",
    "    inputTAR = os.path.abspath(inputTAR)\n",
    "    outputStackImg = os.path.abspath(outputStackImg)\n",
    "    tmpDir = os.path.abspath(tmpDir)\n",
    "    \n",
    "    # Check file input file and tmp directory are present.\n",
    "    if not os.path.exists(tmpDir):\n",
    "        raise rsgislib.RSGISPyException('Tmp directory is not present.')\n",
    "        \n",
    "    if not os.path.exists(inputTAR):\n",
    "        raise rsgislib.RSGISPyException('Input tar file is not present.')\n",
    "    # Get the rsgis utilities object\n",
    "    rsgisUtils = rsgislib.RSGISPyUtils()\n",
    "    \n",
    "    # Get a unique id for processing\n",
    "    uidStr = rsgisUtils.uidGenerator()\n",
    "    \n",
    "    # Create a working directory\n",
    "    workDIR = os.path.join(tmpDir, uidStr)\n",
    "    if not os.path.exists(workDIR):\n",
    "        os.makedirs(workDIR)\n",
    "    # Save current working path\n",
    "    cPWD = os.getcwd()\n",
    "    # Move into that working directory.\n",
    "    os.chdir(workDIR)\n",
    "    \n",
    "    # Extract tar.gz file - using the terminal commands.\n",
    "    cmd = 'tar -zxf ' + inputTAR\n",
    "    print(cmd)\n",
    "    try:\n",
    "        subprocess.call(cmd, shell=True)\n",
    "    except OSError as e:\n",
    "       raise rsgislib.RSGISPyException('Could not execute command: ' + cmd)\n",
    "    \n",
    "    # Find the HH and HV images.\n",
    "    hhImg = ''\n",
    "    hvImg = ''\n",
    "    \n",
    "    hhFiles = glob.glob(os.path.join(workDIR, '*_sl_HH_F02DAR'))\n",
    "    hvFiles = glob.glob(os.path.join(workDIR, '*_sl_HV_F02DAR'))\n",
    "    \n",
    "    if len(hhFiles) == 1:\n",
    "        hhImg = hhFiles[0]\n",
    "    else:\n",
    "        raise rsgislib.RSGISPyException('Could not find HH file')\n",
    "    if len(hvFiles) == 1:\n",
    "        hvImg = hvFiles[0]\n",
    "    else:\n",
    "        raise rsgislib.RSGISPyException('Could not find HV file')\n",
    "    \n",
    "    print(\"HH File: \", hhImg)\n",
    "    print(\"HV File: \", hvImg)\n",
    "    \n",
    "    # Calculate Power for HH image\n",
    "    hhImgPow = os.path.join(workDIR, uidStr+'_HH_Pow.kea')\n",
    "    bandDefns = []\n",
    "    bandDefns.append(imagecalc.BandDefn('HH', hhImg, 1))\n",
    "    mathExp = 'HH>0?10^(2*log10(HH) - 8.3):0.0'\n",
    "    imagecalc.bandMath(hhImgPow, mathExp, 'KEA', rsgislib.TYPE_32FLOAT, bandDefns)\n",
    "    \n",
    "    # Calculate Power for HV image\n",
    "    hvImgPow = os.path.join(workDIR, uidStr+'_HV_Pow.kea')\n",
    "    bandDefns = []\n",
    "    bandDefns.append(imagecalc.BandDefn('HV', hvImg, 1))\n",
    "    mathExp = 'HV>0?10^(2*log10(HV) - 8.3):0.0'\n",
    "    imagecalc.bandMath(hvImgPow, mathExp, 'KEA', rsgislib.TYPE_32FLOAT, bandDefns)\n",
    "\n",
    "    # Calculate HH / HV\n",
    "    hhhvImg = os.path.join(workDIR, uidStr+'_HHHV_Pow.kea')\n",
    "    bandDefns = []\n",
    "    bandDefns.append(imagecalc.BandDefn('HH', hhImgPow, 1))\n",
    "    bandDefns.append(imagecalc.BandDefn('HV', hvImgPow, 1))\n",
    "    mathExp = 'HV>0?HH/HV:0.0'\n",
    "    imagecalc.bandMath(hhhvImg, mathExp, 'KEA', rsgislib.TYPE_32FLOAT, bandDefns)\n",
    "\n",
    "    # Stack images into a single band\n",
    "    imageList = [hhImgPow, hvImgPow, hhhvImg]\n",
    "    bandNamesList = ['HH','HV', 'HH/HV']\n",
    "    imageutils.stackImageBands(imageList, bandNamesList, outputStackImg, None, 0, \n",
    "                               'KEA', rsgislib.TYPE_32FLOAT)\n",
    "    \n",
    "    # Calculate overview pyramids and image statistics to make visualisation faster.\n",
    "    imageutils.popImageStats(outputStackImg, usenodataval=True, nodataval=0, \n",
    "                         calcpyramids=True)\n",
    "                  \n",
    "    # Clean up by deleting the working directory\n",
    "    os.chdir(cPWD) # Move back to starting directory before delete\n",
    "    shutil.rmtree(workDIR)"
   ]
  },
  {
   "cell_type": "code",
   "execution_count": 4,
   "metadata": {},
   "outputs": [
    {
     "name": "stdout",
     "output_type": "stream",
     "text": [
      "tar -zxf /home/fill/Documentos/Turing/VC/Satélites/N22E088_15_MOS_F02DAR.tar.gz\n",
      "HH File:  /home/fill/Documentos/Turing/VC/Satélites/tmp/3b1ee5/N22E088_15_sl_HH_F02DAR\n",
      "HV File:  /home/fill/Documentos/Turing/VC/Satélites/tmp/3b1ee5/N22E088_15_sl_HV_F02DAR\n",
      "tar -zxf /home/fill/Documentos/Turing/VC/Satélites/N22E089_15_MOS_F02DAR.tar.gz\n",
      "HH File:  /home/fill/Documentos/Turing/VC/Satélites/tmp/d76ba6/N22E089_15_sl_HH_F02DAR\n",
      "HV File:  /home/fill/Documentos/Turing/VC/Satélites/tmp/d76ba6/N22E089_15_sl_HV_F02DAR\n",
      "tar -zxf /home/fill/Documentos/Turing/VC/Satélites/N23E088_15_MOS_F02DAR.tar.gz\n",
      "HH File:  /home/fill/Documentos/Turing/VC/Satélites/tmp/13534b/N23E088_15_sl_HH_F02DAR\n",
      "HV File:  /home/fill/Documentos/Turing/VC/Satélites/tmp/13534b/N23E088_15_sl_HV_F02DAR\n",
      "tar -zxf /home/fill/Documentos/Turing/VC/Satélites/N23E089_15_MOS_F02DAR.tar.gz\n",
      "HH File:  /home/fill/Documentos/Turing/VC/Satélites/tmp/cd6528/N23E089_15_sl_HH_F02DAR\n",
      "HV File:  /home/fill/Documentos/Turing/VC/Satélites/tmp/cd6528/N23E089_15_sl_HV_F02DAR\n"
     ]
    }
   ],
   "source": [
    "createPALSARStack('N22E088_15_MOS_F02DAR.tar.gz', 'N22E088_15_MOS_F02DAR_Stack.kea', './tmp')\n",
    "createPALSARStack('N22E089_15_MOS_F02DAR.tar.gz', 'N22E089_15_MOS_F02DAR_Stack.kea', './tmp')\n",
    "createPALSARStack('N23E088_15_MOS_F02DAR.tar.gz', 'N23E088_15_MOS_F02DAR_Stack.kea', './tmp')\n",
    "createPALSARStack('N23E089_15_MOS_F02DAR.tar.gz', 'N23E089_15_MOS_F02DAR_Stack.kea', './tmp')"
   ]
  },
  {
   "cell_type": "markdown",
   "metadata": {},
   "source": [
    "## Data Pre-processing"
   ]
  },
  {
   "cell_type": "markdown",
   "metadata": {},
   "source": [
    "A transformação de uma imagem com valores SAR ou DN em potência HH é um tipo de pre-processamento a ser realizado antes de conseguir fazer algo, de fato, útil com a imagem. Neste sentido a biblioteca proporciona diversos métodos diferentes, vamos explorar alguns deles:"
   ]
  },
  {
   "cell_type": "markdown",
   "metadata": {},
   "source": [
    "### Moisaico de imagens"
   ]
  },
  {
   "cell_type": "markdown",
   "metadata": {},
   "source": [
    "Mosaico de imagens é uma ferramenta disponível para unir as diferentes imagens criadas como um mosaico de bandas."
   ]
  },
  {
   "cell_type": "code",
   "execution_count": 6,
   "metadata": {},
   "outputs": [],
   "source": [
    "# Procurando por todos arquivos com a extensão 'kea'\n",
    "inputList = glob.glob('*.kea')\n",
    "outImage = './Sundarbans_15_MOS_F02DAR.kea'\n",
    "\n",
    "backgroundVal = 0.0\n",
    "skipVal = 0.0\n",
    "skipBand = 1\n",
    "overlapBehaviour = 0\n",
    "\n",
    "imageutils.createImageMosaic(inputList, outImage, backgroundVal,\n",
    "                             skipVal, skipBand, overlapBehaviour, \n",
    "                             'KEA', rsgislib.TYPE_32FLOAT)\n",
    "\n",
    "imageutils.popImageStats(outImage, usenodataval=True, nodataval=0, calcpyramids=True)"
   ]
  },
  {
   "cell_type": "markdown",
   "metadata": {},
   "source": [
    "### Re-projecting/Re-sampling"
   ]
  },
  {
   "cell_type": "markdown",
   "metadata": {},
   "source": [
    "Num problema de classificação, imagine que uma imagem foi obtida pelo satélite PALSAR-2, enquanto outra imagem no dataset foi obtida pelo Landsat-8. PALSAR fornece imagens em lat/long WGS84, enquanto Landsat-8 é fornecida em WSG84 UTM Zone 45. Assim é necessário reprojetar e reamostrar as imagens para que ambas estejam numa mesma 'escala'. Essa função abaixo pode ser utilizada sempre que for necessário unificar as imagens em termos de pixel grid, tamanho de pixel, extensão e projeção. "
   ]
  },
  {
   "cell_type": "code",
   "execution_count": 7,
   "metadata": {},
   "outputs": [
    {
     "name": "stderr",
     "output_type": "stream",
     "text": [
      "101it [00:27,  4.56it/s]                        "
     ]
    }
   ],
   "source": [
    "inRefImg = './Datasets/Sundarbans_201511_Landsat.kea'\n",
    "inProcessImg = 'Sundarbans_15_MOS_F02DAR.kea'\n",
    "outImg = 'Sundarbans_15_MOS_F02DAR_utm45n.kea'\n",
    "\n",
    "imageutils.resampleImage2Match(inRefImg, inProcessImg, outImg, \n",
    "                               'KEA', 'cubic', rsgislib.TYPE_32FLOAT)\n",
    "\n",
    "imageutils.popImageStats(outImg, usenodataval=True, \n",
    "                         nodataval=0, calcpyramids=True)"
   ]
  },
  {
   "cell_type": "markdown",
   "metadata": {},
   "source": [
    "### Criando uma máscara de dados válidos"
   ]
  },
  {
   "cell_type": "markdown",
   "metadata": {},
   "source": [
    "É comum em imagens de satélite que alguns dados sejam não significativos, não válidos, neste caso por exemplo quando todas as 3 bandas tem o valor 0 no pixel. Para tal temos essa função capaz de criar uma máscara de dados válidos apenas, criada da seguinte forma:"
   ]
  },
  {
   "cell_type": "code",
   "execution_count": 8,
   "metadata": {},
   "outputs": [
    {
     "name": "stderr",
     "output_type": "stream",
     "text": [
      "101it [15:35,  9.27s/it]\n"
     ]
    }
   ],
   "source": [
    "from rsgislib import rastergis\n",
    "\n",
    "landsatImg = './Datasets/Sundarbans_201511_Landsat.kea'\n",
    "palsarImg = 'Sundarbans_15_MOS_F02DAR_utm45n.kea'\n",
    "validMask = 'Sundarbans_validmsk.kea'\n",
    "\n",
    "imageutils.genValidMask(inimages=[landsatImg,palsarImg], \n",
    "                        outimage=validMask, gdalformat='KEA', \n",
    "                        nodata=0.0)\n",
    "\n",
    "rastergis.populateStats(clumps=validMask, addclrtab=True, \n",
    "                        calcpyramids=True, ignorezero=True) \n"
   ]
  },
  {
   "cell_type": "markdown",
   "metadata": {},
   "source": [
    "### Raster para vetor"
   ]
  },
  {
   "cell_type": "markdown",
   "metadata": {},
   "source": [
    "Vamos usar a função que transforma um raster em um vetor para criar um shapefile de polígono para a área válida da nossa imagem:"
   ]
  },
  {
   "cell_type": "code",
   "execution_count": 9,
   "metadata": {},
   "outputs": [
    {
     "name": "stderr",
     "output_type": "stream",
     "text": [
      "  5%|▌         | 5/100 [00:00<00:02, 43.29it/s]"
     ]
    },
    {
     "name": "stdout",
     "output_type": "stream",
     "text": [
      "Polygonising...\n"
     ]
    },
    {
     "name": "stderr",
     "output_type": "stream",
     "text": [
      "100%|██████████| 100/100 [00:00<00:00, 85.12it/s]"
     ]
    },
    {
     "name": "stdout",
     "output_type": "stream",
     "text": [
      "Completed\n"
     ]
    },
    {
     "name": "stderr",
     "output_type": "stream",
     "text": [
      "\r",
      "101it [00:12, 85.12it/s]                         "
     ]
    }
   ],
   "source": [
    "from rsgislib import vectorutils\n",
    "\n",
    "inputImg = 'Sundarbans_validmsk.kea'\n",
    "outShp = 'Sundarbans_validmsk_shp.shp'              \n",
    "vectorutils.polygoniseRaster(inputImg, outShp, imgBandNo=1, \n",
    "                             maskImg=inputImg, imgMaskBandNo=1)"
   ]
  },
  {
   "cell_type": "markdown",
   "metadata": {},
   "source": [
    "### Vetor para Raster"
   ]
  },
  {
   "cell_type": "markdown",
   "metadata": {},
   "source": [
    "Na RSGISLib é mais comum trabalhar com rasters que com vetores, portanto 'rasterizar' um vetor na mesma pixel grid que a imagem que pretendemos usar como a camada de vetor é uma operação comum de ser executada. No exemplo vamos utilizar o vetor extraído acima para rasterizar mas na grid da Landsat."
   ]
  },
  {
   "cell_type": "code",
   "execution_count": 3,
   "metadata": {
    "collapsed": true
   },
   "outputs": [
    {
     "ename": "NameError",
     "evalue": "name 'vectorutils' is not defined",
     "output_type": "error",
     "traceback": [
      "\u001b[0;31m---------------------------------------------------------------------------\u001b[0m",
      "\u001b[0;31mNameError\u001b[0m                                 Traceback (most recent call last)",
      "\u001b[0;32m<ipython-input-3-9faf2f13e578>\u001b[0m in \u001b[0;36m<module>\u001b[0;34m\u001b[0m\n\u001b[1;32m      2\u001b[0m \u001b[0minputImage\u001b[0m \u001b[0;34m=\u001b[0m \u001b[0;34m'./Datasets/Sundarbans_201511_Landsat.kea'\u001b[0m\u001b[0;34m\u001b[0m\u001b[0;34m\u001b[0m\u001b[0m\n\u001b[1;32m      3\u001b[0m \u001b[0moutImage\u001b[0m \u001b[0;34m=\u001b[0m \u001b[0;34m'Sundarbans_ValidMask_Landsat_tmp.kea'\u001b[0m\u001b[0;34m\u001b[0m\u001b[0;34m\u001b[0m\u001b[0m\n\u001b[0;32m----> 4\u001b[0;31m vectorutils.rasterise2Image(inputVec, inputImage, outImage, \n\u001b[0m\u001b[1;32m      5\u001b[0m                             gdalformat='KEA', burnVal=1)\n",
      "\u001b[0;31mNameError\u001b[0m: name 'vectorutils' is not defined"
     ]
    }
   ],
   "source": [
    "inputVec = 'Sundarbans_validmsk_shp.shp'\n",
    "inputImage = './Datasets/Sundarbans_201511_Landsat.kea'\n",
    "outImage = 'Sundarbans_ValidMask_Landsat_tmp.kea'\n",
    "vectorutils.rasterise2Image(inputVec, inputImage, outImage, \n",
    "                            gdalformat='KEA', burnVal=1)"
   ]
  },
  {
   "cell_type": "markdown",
   "metadata": {},
   "source": [
    "### Image spatian subsetting "
   ]
  },
  {
   "cell_type": "markdown",
   "metadata": {},
   "source": [
    "É comum querer selecionar uma parte da imagem que seja de interesse da aplicação, a seguinte configuração pode fazer isso de forma simplificada:"
   ]
  },
  {
   "cell_type": "code",
   "execution_count": 5,
   "metadata": {},
   "outputs": [],
   "source": [
    "inputvector = 'Sundarbans_validmsk_shp.shp'\n",
    "\n",
    "inputimage = 'Sundarbans_15_MOS_F02DAR_utm45n.kea'\n",
    "outputimage = 'Sundarbans_15_MOS_F02DAR_utm45n_sub.kea'\n",
    "imageutils.subset(inputimage, inputvector, outputimage, \n",
    "                  'KEA', rsgislib.TYPE_32FLOAT)\n",
    "\n",
    "imageutils.popImageStats(outputimage, usenodataval=True, \n",
    "                         nodataval=0, calcpyramids=True)\n",
    "                        \n",
    "inputimage = './Datasets/Sundarbans_201511_Landsat.kea'\n",
    "outputimage = 'Sundarbans_201511_Landsat_sub.kea'\n",
    "imageutils.subset(inputimage, inputvector, outputimage, \n",
    "                  'KEA', rsgislib.TYPE_16UINT)\n",
    "\n",
    "imageutils.popImageStats(outputimage, usenodataval=True, \n",
    "                         nodataval=0, calcpyramids=True)"
   ]
  },
  {
   "cell_type": "markdown",
   "metadata": {},
   "source": [
    "###  Image Masking"
   ]
  },
  {
   "cell_type": "markdown",
   "metadata": {},
   "source": [
    "A operação de aplicar uma máscara sobre uma imagem é feita quando queremos eliminar uma parte da imagem que não apresenta contribuição significativa para nossa análise, e, no caso de análise automatizadas, pode até atrapalhar. RSGISLib apresenta um comando direto para aplicar uma máscara sobre a imagem:"
   ]
  },
  {
   "cell_type": "code",
   "execution_count": 6,
   "metadata": {},
   "outputs": [],
   "source": [
    "imagemask = 'Sundarbans_validmsk.kea'\n",
    "\n",
    "inputimage = 'Sundarbans_15_MOS_F02DAR_utm45n_sub.kea'\n",
    "outputimage = 'Sundarbans_15_MOS_F02DAR_utm45n_sub_msk.kea'\n",
    "\n",
    "imageutils.maskImage(inputimage, imagemask, outputimage, \n",
    "                     'KEA', rsgislib.TYPE_32FLOAT, 0.0, 0.0)\n",
    "\n",
    "imageutils.popImageStats(outputimage, usenodataval=True, \n",
    "                         nodataval=0, calcpyramids=True)\n",
    "                         \n",
    "inputimage = 'Sundarbans_201511_Landsat_sub.kea'\n",
    "outputimage = 'Sundarbans_201511_Landsat_sub_msk.kea'\n",
    "\n",
    "imageutils.maskImage(inputimage, imagemask, outputimage, \n",
    "                     'KEA', rsgislib.TYPE_16UINT, 0.0, 0.0)\n",
    "\n",
    "imageutils.popImageStats(outputimage, usenodataval=True, \n",
    "                         nodataval=0, calcpyramids=True)"
   ]
  },
  {
   "cell_type": "markdown",
   "metadata": {},
   "source": [
    "###  Image Band Subsetting"
   ]
  },
  {
   "cell_type": "markdown",
   "metadata": {},
   "source": [
    "A biblioteca também é capaz de realizar a seleção de bandas na imagem, por exemplo, ao converter para dB o valor dos pixel, vamos apenas utilizar as bandas HH e HV:"
   ]
  },
  {
   "cell_type": "code",
   "execution_count": 7,
   "metadata": {},
   "outputs": [],
   "source": [
    "inputimage = 'Sundarbans_15_MOS_F02DAR_utm45n_sub_msk.kea'\n",
    "outputimage = 'Sundarbans_15_MOS_F02DAR_utm45n_sub_msk_HHHV.kea'\n",
    "imageutils.selectImageBands(inputimage, outputimage, 'KEA', \n",
    "                            rsgislib.TYPE_32FLOAT, [1,2])\n",
    "\n",
    "imageutils.popImageStats(outputimage, usenodataval=True, \n",
    "                         nodataval=0, calcpyramids=True)"
   ]
  },
  {
   "cell_type": "markdown",
   "metadata": {},
   "source": [
    "###  Apply Lee Filter"
   ]
  },
  {
   "cell_type": "markdown",
   "metadata": {},
   "source": [
    "Em muitas aplicações é bastante útil filtrar o SAR, a biblioteca possui diversos filtros disponíveis, entre eles:\n",
    "* RSGISAbstractFilter\n",
    "* applyMedianFilter\n",
    "* applyMeanFilter\n",
    "* applyGaussianSmoothFilter\n",
    "* applySobelFilter\n",
    "* applySobelXFilter\n",
    "* applySobelYFilter\n",
    "* applyPrewittFilter\n",
    "* applyPrewittXFilter\n",
    "* applyGaussian1stDerivFilter\n",
    "\n",
    "E diversos outros, neste caso vamos aplicar o filtro de Lee:"
   ]
  },
  {
   "cell_type": "code",
   "execution_count": 9,
   "metadata": {},
   "outputs": [],
   "source": [
    "from rsgislib import imagefilter\n",
    "\n",
    "inputimage = 'Sundarbans_15_MOS_F02DAR_utm45n_sub_msk_HHHV.kea'\n",
    "outputimage = 'Sundarbans_15_MOS_F02DAR_utm45n_sub_msk_HHHV_lee.kea'\n",
    "imagefilter.applyLeeFilter(inputimage, outputimage, 5, 5, \n",
    "                           'KEA', rsgislib.TYPE_32FLOAT)\n",
    "\n",
    "imageutils.popImageStats(outputimage, usenodataval=True, \n",
    "                         nodataval=0, calcpyramids=True)"
   ]
  },
  {
   "cell_type": "code",
   "execution_count": null,
   "metadata": {},
   "outputs": [],
   "source": []
  }
 ],
 "metadata": {
  "kernelspec": {
   "display_name": "Python 3",
   "language": "python",
   "name": "python3"
  },
  "language_info": {
   "codemirror_mode": {
    "name": "ipython",
    "version": 3
   },
   "file_extension": ".py",
   "mimetype": "text/x-python",
   "name": "python",
   "nbconvert_exporter": "python",
   "pygments_lexer": "ipython3",
   "version": "3.8.5"
  }
 },
 "nbformat": 4,
 "nbformat_minor": 4
}
