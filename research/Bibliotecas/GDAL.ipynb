{
 "cells": [
  {
   "cell_type": "markdown",
   "metadata": {},
   "source": [
    "# Notebook de exploração da biblioteca GDAL\n",
    "\n",
    "Pela alta complexidade das imagens de satélites elas são salvas em formatos meio complexos, como .tiff, o que dificulta nosso trabalho com elas. \n",
    "\n",
    "GDAL (Geospatial Data Abstraction Library) é uma biblioteca que rasteriza e vetoriza imagens de satélite, assim conseguimos aplicar os processos que precisamos. Ela também está disponivel para C e C++.\n",
    "\n",
    "## Instalação\n",
    "\n",
    "A instalação por pip não me parece funcionar muito bem, mas se alguém quiser tentar é:\n",
    "```\n",
    "pip install GDAL\n",
    "```\n",
    "O método padrão parece ser instalar utilizando a wheel da biblioteca.\n",
    "* Acesse https://www.lfd.uci.edu/~gohlke/pythonlibs/#gdal e baixe a wheel correspondente a sua versão de python\n",
    "* Instale a wheel com o seguinte comando: ```python -m pip install path_to_gdal ```\n",
    "\n",
    "**Side Note**: Se você tem o QGIS o GDAL vem instalado no python embarcado no programa\n",
    "\n",
    "## Utilização"
   ]
  },
  {
   "cell_type": "code",
   "execution_count": 1,
   "metadata": {},
   "outputs": [],
   "source": [
    "import gdal"
   ]
  },
  {
   "cell_type": "code",
   "execution_count": 3,
   "metadata": {},
   "outputs": [],
   "source": [
    "filename = 'img_teste2.tif'\n",
    "dataset = gdal.Open(filename, gdal.GA_ReadOnly)"
   ]
  },
  {
   "cell_type": "code",
   "execution_count": 5,
   "metadata": {},
   "outputs": [
    {
     "name": "stdout",
     "output_type": "stream",
     "text": [
      "Driver: GTiff/GeoTIFF\n",
      "Size is 515 x 305 x 3\n",
      "Projection is PROJCS[\"WGS 84 / UTM zone 19S\",GEOGCS[\"WGS 84\",DATUM[\"WGS_1984\",SPHEROID[\"WGS 84\",6378137,298.257223563,AUTHORITY[\"EPSG\",\"7030\"]],AUTHORITY[\"EPSG\",\"6326\"]],PRIMEM[\"Greenwich\",0,AUTHORITY[\"EPSG\",\"8901\"]],UNIT[\"degree\",0.0174532925199433,AUTHORITY[\"EPSG\",\"9122\"]],AUTHORITY[\"EPSG\",\"4326\"]],PROJECTION[\"Transverse_Mercator\"],PARAMETER[\"latitude_of_origin\",0],PARAMETER[\"central_meridian\",-69],PARAMETER[\"scale_factor\",0.9996],PARAMETER[\"false_easting\",500000],PARAMETER[\"false_northing\",10000000],UNIT[\"metre\",1,AUTHORITY[\"EPSG\",\"9001\"]],AXIS[\"Easting\",EAST],AXIS[\"Northing\",NORTH],AUTHORITY[\"EPSG\",\"32719\"]]\n",
      "Origin = (352860.0, 8159660.0)\n",
      "Pixel Size = (10.0, -10.0)\n"
     ]
    }
   ],
   "source": [
    "print(\"Driver: {}/{}\".format(dataset.GetDriver().ShortName,\n",
    "                            dataset.GetDriver().LongName))\n",
    "print(\"Size is {} x {} x {}\".format(dataset.RasterXSize,\n",
    "                                    dataset.RasterYSize,\n",
    "                                    dataset.RasterCount))\n",
    "print(\"Projection is {}\".format(dataset.GetProjection()))\n",
    "geotransform = dataset.GetGeoTransform()\n",
    "if geotransform:\n",
    "    print(\"Origin = ({}, {})\".format(geotransform[0], geotransform[3]))\n",
    "    print(\"Pixel Size = ({}, {})\".format(geotransform[1], geotransform[5]))"
   ]
  },
  {
   "cell_type": "code",
   "execution_count": 6,
   "metadata": {},
   "outputs": [
    {
     "name": "stdout",
     "output_type": "stream",
     "text": [
      "Number of raster bands: 3\n"
     ]
    }
   ],
   "source": [
    "print(f'Number of raster bands: {dataset.RasterCount}')"
   ]
  },
  {
   "cell_type": "code",
   "execution_count": 17,
   "metadata": {},
   "outputs": [],
   "source": [
    "band1 = dataset.GetRasterBand(1).ReadAsArray()"
   ]
  },
  {
   "cell_type": "code",
   "execution_count": 23,
   "metadata": {},
   "outputs": [
    {
     "name": "stdout",
     "output_type": "stream",
     "text": [
      "(305, 515)\n"
     ]
    }
   ],
   "source": [
    "print(band1.shape)"
   ]
  }
 ],
 "metadata": {
  "kernelspec": {
   "display_name": "Python 3",
   "language": "python",
   "name": "python3"
  },
  "language_info": {
   "codemirror_mode": {
    "name": "ipython",
    "version": 3
   },
   "file_extension": ".py",
   "mimetype": "text/x-python",
   "name": "python",
   "nbconvert_exporter": "python",
   "pygments_lexer": "ipython3",
   "version": "3.8.5"
  }
 },
 "nbformat": 4,
 "nbformat_minor": 4
}
